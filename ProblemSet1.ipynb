{
 "cells": [
  {
   "cell_type": "markdown",
   "id": "218d7d83",
   "metadata": {},
   "source": [
    "1. What data type is each of the following?\n",
    "\n",
    "5 = integer  \n",
    "5.0 = double  \n",
    "5 > 1 = boolean  \n",
    "'5' = character  \n",
    "5 * 2 = integer  \n",
    "'5' * 2 = integer  \n",
    "'5' + '2' = integer   \n",
    "5 / 2 = integer  \n",
    "5 % 2 = integer  \n",
    "{5, 2, 1} = array(integer)  \n",
    "5 == 3 = boolean  \n",
    "Pi (the number) = double  "
   ]
  },
  {
   "cell_type": "markdown",
   "id": "0999659f",
   "metadata": {},
   "source": [
    "2. Write (and evaluate) python expressions that answer these questions:  \n",
    "a. How many letters are there in 'Supercalifragilisticexpialidocious'?  \n",
    "b. Does 'Supercalifragilisticexpialidocious' contain 'ice' as a substring?   \n",
    "c. Which of the following words is the longest:  \n",
    "Supercalifragilisticexpialidocious, Honorificabilitudinitatibus, or\n",
    "Bababadalgharaghtakamminarronnkonn?  \n",
    "d. Which composer comes first in the dictionary: 'Berlioz', 'Borodin', 'Brian',\n",
    "'Bartok', 'Bellini', 'Buxtehude', 'Bernstein'. Which one comes last?"
   ]
  },
  {
   "cell_type": "code",
   "execution_count": 2,
   "id": "79d15a8f",
   "metadata": {},
   "outputs": [
    {
     "name": "stdout",
     "output_type": "stream",
     "text": [
      "Number of letters in the given word: 34\n"
     ]
    }
   ],
   "source": [
    "#length of given word\n",
    "main_word = 'Supercalifragilisticexpialidocious'\n",
    "num_of_letters = len(word)\n",
    "print(\"Number of letters in the given word:\", num_of_letters)"
   ]
  },
  {
   "cell_type": "code",
   "execution_count": 3,
   "id": "17f04a80",
   "metadata": {},
   "outputs": [
    {
     "name": "stdout",
     "output_type": "stream",
     "text": [
      "Yes, 'Supercalifragilisticexpialidocious' contains 'ice' as a substring.\n"
     ]
    }
   ],
   "source": [
    "#whether 'Supercalifragilisticexpialidocious' contain 'ice' as a substring?\n",
    "main_word = 'Supercalifragilisticexpialidocious'\n",
    "substring_word = 'ice'\n",
    "if substring_word in main_word:\n",
    "    print(\"Yes, '{}' contains '{}' as a substring.\".format(main_word, substring_word))\n",
    "else:\n",
    "    print(\"No, '{}' does not contain '{}' as a substring.\".format(main_word, substring_word))\n"
   ]
  },
  {
   "cell_type": "code",
   "execution_count": 5,
   "id": "1d136e8f",
   "metadata": {},
   "outputs": [
    {
     "name": "stdout",
     "output_type": "stream",
     "text": [
      "The longest word among the given list is: Supercalifragilisticexpialidocious\n"
     ]
    }
   ],
   "source": [
    "# Which of the following words is the longest:\n",
    "# Supercalifragilisticexpialidocious, Honorificabilitudinitatibus, or Bababadalgharaghtakamminarronnkonn?\n",
    "words_list = ['Supercalifragilisticexpialidocious', 'Honorificabilitudinitatibus', 'Bababadalgharaghtakamminarronnkonn']\n",
    "\n",
    "longest_word = max(words_list, key=len)\n",
    "\n",
    "print(\"The longest word among the given list is:\", longest_word)\n"
   ]
  },
  {
   "cell_type": "code",
   "execution_count": 6,
   "id": "3dba4297",
   "metadata": {},
   "outputs": [
    {
     "name": "stdout",
     "output_type": "stream",
     "text": [
      "First composer that appears in the dictionary: Bartok\n",
      "Last composer that appears in the dictionary: Buxtehude\n"
     ]
    }
   ],
   "source": [
    "# Which composer comes first in the dictionary: 'Berlioz', 'Borodin', 'Brian', 'Bartok', 'Bellini', 'Buxtehude', 'Bernstein'.\n",
    "# Which one comes last?\n",
    "composers_list = ['Berlioz', 'Borodin', 'Brian', 'Bartok', 'Bellini', 'Buxtehude', 'Bernstein']\n",
    "\n",
    "first_composer = min(composers_list)\n",
    "last_composer = max(composers_list)\n",
    "\n",
    "print(\"First composer that appears in the dictionary:\", first_composer)\n",
    "print(\"Last composer that appears in the dictionary:\", last_composer)"
   ]
  },
  {
   "cell_type": "markdown",
   "id": "7a563dad",
   "metadata": {},
   "source": [
    "3. Implement function triangleArea(a,b,c) that takes as input the lengths of the 3\n",
    "sides of a triangle and returns the area of the triangle.  \n",
    "By Heron's formula, the area  \n",
    "of a triangle with side lengths a, b, and c is  \n",
    "s(s - a)(s -b)(s -c), where  \n",
    "s = (a+b+c)/2."
   ]
  },
  {
   "cell_type": "code",
   "execution_count": 7,
   "id": "79345331",
   "metadata": {},
   "outputs": [],
   "source": [
    "# Finding area of triangle a,b,c\n",
    "def triangleArea(a, b, c):\n",
    "    # Calculate semi-perimeter\n",
    "    s = (a + b + c) / 2\n",
    "    \n",
    "    # Calculate area using Heron's formula\n",
    "    area = (s * (s - a) * (s - b) * (s - c)) ** 0.5\n",
    "    \n",
    "    return area"
   ]
  },
  {
   "cell_type": "code",
   "execution_count": 8,
   "id": "b2a4e95e",
   "metadata": {},
   "outputs": [
    {
     "name": "stdout",
     "output_type": "stream",
     "text": [
      "Area of the triangle: 1.7320508075688772\n"
     ]
    }
   ],
   "source": [
    "print(\"Area of the triangle:\", triangleArea(2, 2, 2))"
   ]
  },
  {
   "cell_type": "markdown",
   "id": "a963af3c",
   "metadata": {},
   "source": [
    "4. Write a program in python to separate odd and even integers in separate arrays.  \n",
    "Go to the editor  \n",
    "Test Data :  \n",
    "Input the number of elements to be stored in the array :5  \n",
    "Input 5 elements in the array :  \n",
    "element - 0 : 25  \n",
    "element - 1 : 47  \n",
    "element - 2 : 42  \n",
    "element - 3 : 56  \n",
    "element - 4 : 32"
   ]
  },
  {
   "cell_type": "code",
   "execution_count": 12,
   "id": "b26183ec",
   "metadata": {},
   "outputs": [],
   "source": [
    "def separate_odd_and_even(numbers):\n",
    "    odd_numbers = []\n",
    "    even_numbers = []\n",
    "\n",
    "    for num in numbers:\n",
    "        if num % 2 == 0:\n",
    "            even_numbers.append(num)\n",
    "        else:\n",
    "            odd_numbers.append(num)\n",
    "\n",
    "    return odd_numbers, even_numbers"
   ]
  },
  {
   "cell_type": "code",
   "execution_count": 14,
   "id": "629040fd",
   "metadata": {},
   "outputs": [
    {
     "name": "stdout",
     "output_type": "stream",
     "text": [
      "Input the number of elements to be stored in the array: 5\n",
      "Number 0: 25\n",
      "Number 1: 47\n",
      "Number 2: 42\n",
      "Number 3: 56\n",
      "Number 4: 32\n",
      "Even numbers: [42, 56, 32]\n",
      "Odd numbers: [25, 47]\n"
     ]
    }
   ],
   "source": [
    "numbers = int(input(\"Input the number of elements to be stored in the array: \"))\n",
    "array = []\n",
    "for i in range(numbers):\n",
    "    element = int(input(\"Number {}: \".format(i)))\n",
    "    array.append(element)\n",
    "\n",
    "odd_numbers, even_numbers = separate_odd_and_even(array)\n",
    "\n",
    "print(\"Even numbers:\", even_numbers)\n",
    "print(\"Odd numbers:\", odd_numbers) "
   ]
  },
  {
   "cell_type": "markdown",
   "id": "a1ac2cf5",
   "metadata": {},
   "source": [
    "5. a. Write a function inside(x,y,x1,y1,x2,y2) that returns True or False  \n",
    "depending on whether the point (x,y) lies in the rectangle with lower left  \n",
    "corner (x1,y1) and upper right corner (x2,y2).  \n",
    "  \n",
    "b. Use function inside() from part a. to write an expression that tests whether  \n",
    "the point (1,1) lies in both of the following rectangles: one with lower left  \n",
    "corner (0.3, 0.5) and upper right corner (1.1, 0.7) and the other with lower  \n",
    "left corner (0.5, 0.2) and upper right corner (1.1, 2). "
   ]
  },
  {
   "cell_type": "code",
   "execution_count": 18,
   "id": "c36885c6",
   "metadata": {},
   "outputs": [
    {
     "name": "stdout",
     "output_type": "stream",
     "text": [
      "Enter the x-coordinate of the point: 1\n",
      "Enter the y-coordinate of the point: 1\n",
      "Enter the x1-coordinate of the point: 0\n",
      "Enter the y1-coordinate of the point: 0\n",
      "Enter the x2-coordinate of the point: 2\n",
      "Enter the y2-coordinate of the point: 3\n",
      "The point (1.0, 1.0) lies inside the rectangle.\n",
      "Enter the x-coordinate of the point: -1\n",
      "Enter the y-coordinate of the point: -1\n",
      "Enter the x1-coordinate of the point: 0\n",
      "Enter the y1-coordinate of the point: 0\n",
      "Enter the x2-coordinate of the point: 2\n",
      "Enter the y2-coordinate of the point: 3\n",
      "The point (-1.0, -1.0) does not lie inside the rectangle.\n"
     ]
    }
   ],
   "source": [
    "# a.\n",
    "def inside(x, y, x1, y1, x2, y2):\n",
    "    return x1 <= x <= x2 and y1 <= y <= y2\n",
    "\n",
    "for i in range(2):\n",
    "    x = float(input(\"Enter the x-coordinate of the point: \"))\n",
    "    y = float(input(\"Enter the y-coordinate of the point: \"))\n",
    "    x1 = float(input(\"Enter the x1-coordinate of the point: \"))\n",
    "    y1 = float(input(\"Enter the y1-coordinate of the point: \"))\n",
    "    x2 = float(input(\"Enter the x2-coordinate of the point: \"))\n",
    "    y2 = float(input(\"Enter the y2-coordinate of the point: \"))\n",
    "\n",
    "    if inside(x, y, x1, y1, x2, y2):\n",
    "        print(\"The point ({}, {}) lies inside the rectangle.\".format(x, y))\n",
    "    else:\n",
    "        print(\"The point ({}, {}) does not lie inside the rectangle.\".format(x, y))\n"
   ]
  },
  {
   "cell_type": "code",
   "execution_count": 19,
   "id": "e9446cd0",
   "metadata": {},
   "outputs": [
    {
     "name": "stdout",
     "output_type": "stream",
     "text": [
      "Does the point (1,1) lie inside both rectangles?\n",
      "Rectangle 1: False\n",
      "Rectangle 2: True\n"
     ]
    }
   ],
   "source": [
    "#b.\n",
    "def inside(x, y, x1, y1, x2, y2):\n",
    "    return x1 <= x <= x2 and y1 <= y <= y2\n",
    "\n",
    "x_point = 1\n",
    "y_point = 1\n",
    "\n",
    "rect1_lower_left_x = 0.3\n",
    "rect1_lower_left_y = 0.5\n",
    "rect1_upper_right_x = 1.1\n",
    "rect1_upper_right_y = 0.7\n",
    "\n",
    "rect2_lower_left_x = 0.5\n",
    "rect2_lower_left_y = 0.2\n",
    "rect2_upper_right_x = 1.1\n",
    "rect2_upper_right_y = 2\n",
    "\n",
    "point_in_rect1 = inside(x_point, y_point, rect1_lower_left_x, rect1_lower_left_y, rect1_upper_right_x, rect1_upper_right_y)\n",
    "point_in_rect2 = inside(x_point, y_point, rect2_lower_left_x, rect2_lower_left_y, rect2_upper_right_x, rect2_upper_right_y)\n",
    "\n",
    "print(\"Does the point (1,1) lie inside both rectangles?\")\n",
    "print(\"Rectangle 1:\", point_in_rect1)\n",
    "print(\"Rectangle 2:\", point_in_rect2)\n"
   ]
  },
  {
   "cell_type": "markdown",
   "id": "3e2c17ab",
   "metadata": {},
   "source": [
    "6. You can turn a word into pig-Latin using the following two rules (simplified):  \n",
    "• If the word starts with a consonant, move that letter to the end and append  \n",
    "'ay'. For example, 'happy' becomes 'appyhay' and 'pencil' becomes 'encilpay'.  \n",
    "• If the word starts with a vowel, simply append 'way' to the end of the word.  \n",
    "For example, 'enter' becomes 'enterway' and 'other' becomes 'otherway' . For  \n",
    "our purposes, there are 5 vowels: a, e, i, o, u (so we count y as a consonant).  \n",
    "Write a function pig() that takes a word (i.e., a string) as input and returns its pigLatin form. Your function should still work if the input word contains upper case  \n",
    "characters. Your output should always be lower case however."
   ]
  },
  {
   "cell_type": "code",
   "execution_count": 20,
   "id": "77e9d677",
   "metadata": {},
   "outputs": [],
   "source": [
    "def pig(word):\n",
    "    vowels = ['a', 'e', 'i', 'o', 'u']\n",
    "    word = word.lower()\n",
    "    \n",
    "    if word[0] not in vowels:\n",
    "        return word[1:] + word[0] + 'ay'\n",
    "    else:\n",
    "        return word + 'way'"
   ]
  },
  {
   "cell_type": "code",
   "execution_count": 21,
   "id": "5ec63f33",
   "metadata": {},
   "outputs": [
    {
     "name": "stdout",
     "output_type": "stream",
     "text": [
      "Pig-Latin of 'happy' is 'appyhay'\n",
      "Pig-Latin of 'enter' is 'enterway'\n"
     ]
    }
   ],
   "source": [
    "word1 = 'happy'\n",
    "word2 = 'enter'\n",
    "\n",
    "print(\"Pig-Latin of '{}' is '{}'\".format(word1, pig(word1)))\n",
    "print(\"Pig-Latin of '{}' is '{}'\".format(word2, pig(word2)))"
   ]
  },
  {
   "cell_type": "markdown",
   "id": "ed5f49e6",
   "metadata": {},
   "source": [
    "7. File bloodtype1.txt records blood-types of patients (A, B, AB, O or OO) at a clinic.  \n",
    "Write a function bldcount() that reads the file with name name and reports (i.e.,\n",
    "prints) how many patients there are in each bloodtype."
   ]
  },
  {
   "cell_type": "code",
   "execution_count": 27,
   "id": "2f199925",
   "metadata": {},
   "outputs": [
    {
     "name": "stdout",
     "output_type": "stream",
     "text": [
      "Number of patients with blood type A: 15\n",
      "Number of patients with blood type B: 1\n",
      "Number of patients with blood type AB: 13\n",
      "Number of patients with blood type O: 15\n",
      "Number of patients with blood type OO: 0\n"
     ]
    }
   ],
   "source": [
    "def bldcount(name):\n",
    "    count = {'A': 0, 'B': 0, 'AB': 0, 'O': 0, 'OO': 0}\n",
    "\n",
    "    with open(name, 'r') as file:\n",
    "        blood_types_line = file.readline().strip().split()\n",
    "        \n",
    "        for blood_type in blood_types_line:\n",
    "            count[blood_type] += 1\n",
    "\n",
    "    for blood_type, num_patients in count.items():\n",
    "        print(\"Number of patients with blood type {}: {}\".format(blood_type, num_patients))\n",
    "\n",
    "bldcount(r'C:\\Users\\SanjayVKurian\\Downloads\\bloodtype1.txt')"
   ]
  },
  {
   "cell_type": "markdown",
   "id": "04fa9df9",
   "metadata": {},
   "source": [
    "8. Write a function curconv() that takes as input:  \n",
    " 1) a currency represented using a string (e.g., 'JPY' for the Japanese Yen or\n",
    "'EUR' for the Euro)  \n",
    " 2) an amount\n",
    "and then converts and returns the amount in US dollars."
   ]
  },
  {
   "cell_type": "code",
   "execution_count": 35,
   "id": "c6e014ec",
   "metadata": {},
   "outputs": [],
   "source": [
    "def curconv(currency, amount):\n",
    "    # Read currency rates from the file and store them in a dictionary\n",
    "    with open(r'C:\\Users\\SanjayVKurian\\Downloads\\currencies.txt', 'r') as file:\n",
    "        rates = {}\n",
    "        for line in file:\n",
    "            code, rate, *_ = line.strip().split('\\t')\n",
    "            rates[code] = float(rate)\n",
    "    \n",
    "    # Convert the amount to US dollars using the corresponding rate\n",
    "    if currency in rates:\n",
    "        return amount * rates[currency]\n",
    "    else:\n",
    "        return \"Currency code not found in the file.\""
   ]
  },
  {
   "cell_type": "code",
   "execution_count": 36,
   "id": "01394e2b",
   "metadata": {},
   "outputs": [
    {
     "name": "stdout",
     "output_type": "stream",
     "text": [
      "122.96544\n",
      "1.241401\n"
     ]
    }
   ],
   "source": [
    "print(curconv('EUR', 100))\n",
    "print(curconv('JPY', 100))"
   ]
  },
  {
   "cell_type": "markdown",
   "id": "e5662218",
   "metadata": {},
   "source": [
    "9. Each of the following will cause an exception (an error). Identify what type of\n",
    "exception each will cause.  \n",
    "1) Trying to add incompatible variables, as in\n",
    "adding 6 + ‘a’  \n",
    "2) Referring to the 12th item of a list that has only 10\n",
    "items  \n",
    "3) Using a value that is out of range for a function’s\n",
    "input, such as calling math.sqrt(-1.0)  \n",
    "4) Using an undeclared variable, such as print(x)\n",
    "when x has not been defined  \n",
    "5) Trying to open a file that does not exist, such as\n",
    "mistyping the file name or looking in the wrong\n",
    "directory. "
   ]
  },
  {
   "cell_type": "code",
   "execution_count": 37,
   "id": "8a9a0c17",
   "metadata": {},
   "outputs": [
    {
     "name": "stdout",
     "output_type": "stream",
     "text": [
      "An error occurred: TypeError\n"
     ]
    }
   ],
   "source": [
    "#https://stackoverflow.com/questions/18176602/how-to-get-the-name-of-an-exception-that-was-caught-in-python\n",
    "try:\n",
    "    result = 6 + 'a'\n",
    "except Exception as e:\n",
    "    print(\"An error occurred:\", type(e).__name__)"
   ]
  },
  {
   "cell_type": "code",
   "execution_count": 40,
   "id": "47ae2104",
   "metadata": {},
   "outputs": [
    {
     "name": "stdout",
     "output_type": "stream",
     "text": [
      "An error occurred: IndexError\n"
     ]
    }
   ],
   "source": [
    "try:\n",
    "    list = [0,1,2,3,4,5,6,7,8,9]\n",
    "    result = list[12]\n",
    "except Exception as e:\n",
    "    print(\"An error occurred:\", type(e).__name__)"
   ]
  },
  {
   "cell_type": "code",
   "execution_count": 46,
   "id": "eb47a158",
   "metadata": {},
   "outputs": [
    {
     "name": "stdout",
     "output_type": "stream",
     "text": [
      "An error occurred: ValueError\n"
     ]
    }
   ],
   "source": [
    "import math\n",
    "\n",
    "try:\n",
    "    num = math.sqrt(-1.0)\n",
    "except Exception as e:\n",
    "    print(\"An error occurred:\", type(e).__name__)"
   ]
  },
  {
   "cell_type": "code",
   "execution_count": 1,
   "id": "31a8f831",
   "metadata": {},
   "outputs": [
    {
     "name": "stdout",
     "output_type": "stream",
     "text": [
      "An error occurred: NameError\n"
     ]
    }
   ],
   "source": [
    "try:\n",
    "    print(x)\n",
    "except Exception as e:\n",
    "    print(\"An error occurred:\", type(e).__name__)"
   ]
  },
  {
   "cell_type": "code",
   "execution_count": 2,
   "id": "992e97c4",
   "metadata": {},
   "outputs": [
    {
     "name": "stdout",
     "output_type": "stream",
     "text": [
      "An error occurred: FileNotFoundError\n"
     ]
    }
   ],
   "source": [
    "try:\n",
    "    file = open(\"sanjayKurian.txt\", \"r\")\n",
    "except Exception as e:\n",
    "    print(\"An error occurred:\", type(e).__name__)"
   ]
  },
  {
   "cell_type": "markdown",
   "id": "016d00e1",
   "metadata": {},
   "source": [
    "10. Assume that the string letters is already defined as\n",
    "'abcdefghijklmnopqrstuvwxyz'.  Write a function called frequencies()\n",
    "that takes a string as its only parameter, and returns a list of integers, showing the\n",
    "number of times each character appears in the text.  Your function may ignore any\n",
    "characters that are not in letters. "
   ]
  },
  {
   "cell_type": "code",
   "execution_count": 5,
   "id": "8047463f",
   "metadata": {},
   "outputs": [],
   "source": [
    "def frequencies(text):\n",
    "    letters = 'abcdefghijklmnopqrstuvwxyz'\n",
    "    letter_freq = [0] * 26\n",
    "    \n",
    "    for char in text:\n",
    "        char = char.lower()\n",
    "        if char in letters:\n",
    "            index = letters.index(char)\n",
    "            letter_freq[index] += 1\n",
    "    \n",
    "    return letter_freq"
   ]
  },
  {
   "cell_type": "code",
   "execution_count": 6,
   "id": "20c3fdd3",
   "metadata": {},
   "outputs": [
    {
     "name": "stdout",
     "output_type": "stream",
     "text": [
      "Type word or sentence: The quick red fox got bored and went home.\n",
      "[1, 1, 1, 3, 5, 1, 1, 2, 1, 0, 1, 0, 1, 2, 4, 0, 1, 2, 0, 3, 1, 0, 1, 1, 0, 0]\n",
      "Type word or sentence: Apple\n",
      "[1, 0, 0, 0, 1, 0, 0, 0, 0, 0, 0, 1, 0, 0, 0, 2, 0, 0, 0, 0, 0, 0, 0, 0, 0, 0]\n"
     ]
    }
   ],
   "source": [
    "for i in range(2):\n",
    "    text = input(\"Type word or sentence: \")\n",
    "    result = frequencies(text)\n",
    "    print(result)"
   ]
  },
  {
   "cell_type": "code",
   "execution_count": null,
   "id": "857ba2d1",
   "metadata": {},
   "outputs": [],
   "source": []
  }
 ],
 "metadata": {
  "kernelspec": {
   "display_name": "Python 3 (ipykernel)",
   "language": "python",
   "name": "python3"
  },
  "language_info": {
   "codemirror_mode": {
    "name": "ipython",
    "version": 3
   },
   "file_extension": ".py",
   "mimetype": "text/x-python",
   "name": "python",
   "nbconvert_exporter": "python",
   "pygments_lexer": "ipython3",
   "version": "3.11.5"
  }
 },
 "nbformat": 4,
 "nbformat_minor": 5
}
